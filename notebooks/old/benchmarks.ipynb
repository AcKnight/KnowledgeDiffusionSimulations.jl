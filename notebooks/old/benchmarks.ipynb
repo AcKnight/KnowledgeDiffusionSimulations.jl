{
 "cells": [
  {
   "cell_type": "code",
   "execution_count": 1,
   "metadata": {},
   "outputs": [],
   "source": [
    "using DiffEqJump, StochasticDiffEq, DiffEqCallbacks\n",
    "using StatsBase, Parameters, Plots, Distributions\n",
    "using BenchmarkTools"
   ]
  },
  {
   "cell_type": "markdown",
   "metadata": {},
   "source": [
    "### Callable Struct"
   ]
  },
  {
   "cell_type": "code",
   "execution_count": 4,
   "metadata": {},
   "outputs": [
    {
     "data": {
      "text/plain": [
       "enclose_this (generic function with 1 method)"
      ]
     },
     "execution_count": 4,
     "metadata": {},
     "output_type": "execute_result"
    }
   ],
   "source": [
    "# This stuff needs to be at top level\n",
    "struct AffectIndex{F1, F2}\n",
    "  affect_index!::F1\n",
    "  index::F2\n",
    "end\n",
    "function (p::AffectIndex)(integrator)\n",
    "    return p.affect_index!(integrator, p.index)\n",
    "end\n",
    "\n",
    "function enclose_this()\n",
    "    function μ_SDE(du,u,p,t)\n",
    "      du .= p.μ\n",
    "    end\n",
    "    function σ_SDE(du,u,p,t)\n",
    "      du .= p.σ\n",
    "    end\n",
    "    \n",
    "    p = (μ = 0.01, σ = 0.1, N = 300) # if all constant\n",
    "    T = 10.0  # maximum time length\n",
    "    x_iv = rand(p.N)  # just draws from the inital condition\n",
    "\n",
    "    prob = SDEProblem(μ_SDE, σ_SDE, x_iv ,(0.0, T), p)\n",
    "    rate(u,p,t) = 0.2\n",
    "    affect_index!(integrator, index) = (integrator.u[index] = max(integrator.u[index], integrator.u[rand(1:integrator.p.N)]) )\n",
    "    jumps = [ConstantRateJump(rate,AffectIndex(affect_index!, i)) for i in 1:p.N]\n",
    "    jump_prob = JumpProblem(prob,DirectFW(),JumpSet((), jumps, nothing, nothing))\n",
    "    sol = solve(jump_prob, SRIW1());\n",
    "end"
   ]
  },
  {
   "cell_type": "code",
   "execution_count": 8,
   "metadata": {},
   "outputs": [
    {
     "data": {
      "text/plain": [
       "BenchmarkTools.Trial: \n",
       "  memory estimate:  21.39 MiB\n",
       "  allocs estimate:  378341\n",
       "  --------------\n",
       "  minimum time:     37.033 ms (7.54% GC)\n",
       "  median time:      43.452 ms (8.80% GC)\n",
       "  mean time:        44.567 ms (11.20% GC)\n",
       "  maximum time:     129.983 ms (66.50% GC)\n",
       "  --------------\n",
       "  samples:          113\n",
       "  evals/sample:     1"
      ]
     },
     "execution_count": 8,
     "metadata": {},
     "output_type": "execute_result"
    }
   ],
   "source": [
    "@benchmark enclose_this()"
   ]
  },
  {
   "cell_type": "markdown",
   "metadata": {},
   "source": [
    "### Closure"
   ]
  },
  {
   "cell_type": "code",
   "execution_count": 14,
   "metadata": {},
   "outputs": [
    {
     "data": {
      "text/plain": [
       "closure_approach (generic function with 1 method)"
      ]
     },
     "execution_count": 14,
     "metadata": {},
     "output_type": "execute_result"
    }
   ],
   "source": [
    "function closure_approach()\n",
    "    function μ_SDE(du,u,p,t)\n",
    "      du .= p.μ\n",
    "    end\n",
    "    function σ_SDE(du,u,p,t)\n",
    "      du .= p.σ\n",
    "    end\n",
    "    \n",
    "    p = (μ = 0.01, σ = 0.1, N = 300) # if all constant\n",
    "    T = 10.0  # maximum time length\n",
    "    x_iv = rand(p.N)  # just draws from the inital condition\n",
    "\n",
    "    prob = SDEProblem(μ_SDE, σ_SDE, x_iv ,(0.0, T), p)\n",
    "    rate(u,p,t) = 0.2\n",
    "    affect_index!(integrator, index) = (integrator.u[index] = max(integrator.u[index], integrator.u[rand(1:integrator.p.N)]) )\n",
    "    jumps = [ConstantRateJump(rate, integrator -> affect_index!(integrator, i)) for i in 1:p.N]\n",
    "    jump_prob = JumpProblem(prob,DirectFW(),JumpSet((), jumps, nothing, nothing))\n",
    "    sol = solve(jump_prob, SRIW1());\n",
    "end"
   ]
  },
  {
   "cell_type": "code",
   "execution_count": 15,
   "metadata": {},
   "outputs": [
    {
     "data": {
      "text/plain": [
       "BenchmarkTools.Trial: \n",
       "  memory estimate:  22.25 MiB\n",
       "  allocs estimate:  386829\n",
       "  --------------\n",
       "  minimum time:     38.934 ms (8.73% GC)\n",
       "  median time:      43.642 ms (8.69% GC)\n",
       "  mean time:        44.168 ms (9.75% GC)\n",
       "  maximum time:     65.384 ms (18.08% GC)\n",
       "  --------------\n",
       "  samples:          114\n",
       "  evals/sample:     1"
      ]
     },
     "execution_count": 15,
     "metadata": {},
     "output_type": "execute_result"
    }
   ],
   "source": [
    "@benchmark closure_approach()"
   ]
  }
 ],
 "metadata": {
  "kernelspec": {
   "display_name": "Julia 1.1.1",
   "language": "julia",
   "name": "julia-1.1"
  },
  "language_info": {
   "file_extension": ".jl",
   "mimetype": "application/julia",
   "name": "julia",
   "version": "1.1.1"
  }
 },
 "nbformat": 4,
 "nbformat_minor": 2
}
