{
 "cells": [
  {
   "cell_type": "markdown",
   "metadata": {},
   "source": [
    "## MWE (Understanding the Ensemble Tools)\n",
    "\n",
    "Goal of this section is to adapt a vanilla example from the tutorial with our reduced framework (i.e., only store moment information.)\n",
    "\n",
    "Overview:\n",
    "\n",
    "- In the output_func, it gets the solution for a particular path (and that trajectory's index `i`), and gets to transform it to feed to the `reduction_func`.\n",
    "\n",
    "- In the reduction, it gets the `u` (which ends up being our `sim.u`, which we transform as we go along.) And the `data`, which is an array of all the various `output_func` trajectory outputs. And `I`, which I guess is a list/indexing set of trajectories."
   ]
  },
  {
   "cell_type": "markdown",
   "metadata": {},
   "source": [
    "### General Setup"
   ]
  },
  {
   "cell_type": "code",
   "execution_count": 1,
   "metadata": {},
   "outputs": [],
   "source": [
    "using DifferentialEquations"
   ]
  },
  {
   "cell_type": "code",
   "execution_count": 2,
   "metadata": {},
   "outputs": [],
   "source": [
    "using Statistics, StatsBase"
   ]
  },
  {
   "cell_type": "code",
   "execution_count": 6,
   "metadata": {},
   "outputs": [
    {
     "data": {
      "text/plain": [
       "output_func (generic function with 1 method)"
      ]
     },
     "execution_count": 6,
     "metadata": {},
     "output_type": "execute_result"
    }
   ],
   "source": [
    "function output_func(sol,i)\n",
    "  return summarystats(sol.u), false # for a given solution, just return the summary statistics\n",
    "end"
   ]
  },
  {
   "cell_type": "code",
   "execution_count": 7,
   "metadata": {},
   "outputs": [
    {
     "data": {
      "text/plain": [
       "prob_func (generic function with 1 method)"
      ]
     },
     "execution_count": 7,
     "metadata": {},
     "output_type": "execute_result"
    }
   ],
   "source": [
    "# boilerplate from the tutorial\n",
    "prob = ODEProblem((u,p,t)->1.01u,0.5,(0.0,1.0))\n",
    "\n",
    "function prob_func(prob,i,repeat)\n",
    "  ODEProblem(prob.f,rand()*prob.u0,prob.tspan)\n",
    "end"
   ]
  },
  {
   "cell_type": "code",
   "execution_count": 8,
   "metadata": {},
   "outputs": [
    {
     "data": {
      "text/plain": [
       "reduction (generic function with 1 method)"
      ]
     },
     "execution_count": 8,
     "metadata": {},
     "output_type": "execute_result"
    }
   ],
   "source": [
    "function reduction(u,batch,I)\n",
    "  # return summary statistics on the mean and minimum (for ex.)\n",
    "  means = [sol.mean for sol in batch]\n",
    "  mins = [sol.min for sol in batch] \n",
    "  newstuff = (summarystats(means), summarystats(mins))\n",
    "  append!(u, newstuff)\n",
    "  return u, false\n",
    "end"
   ]
  },
  {
   "cell_type": "code",
   "execution_count": 9,
   "metadata": {},
   "outputs": [
    {
     "data": {
      "text/plain": [
       "EnsembleProblem with problem ODEProblem"
      ]
     },
     "execution_count": 9,
     "metadata": {},
     "output_type": "execute_result"
    }
   ],
   "source": [
    "prob2 = EnsembleProblem(prob,prob_func=prob_func,output_func=output_func,reduction=reduction,u_init=0.0)"
   ]
  },
  {
   "cell_type": "code",
   "execution_count": null,
   "metadata": {},
   "outputs": [],
   "source": [
    "sim2 = solve(prob2,Tsit5(),trajectories=100,batch_size=20)"
   ]
  }
 ],
 "metadata": {
  "kernelspec": {
   "display_name": "Julia 1.1.1",
   "language": "julia",
   "name": "julia-1.1"
  },
  "language_info": {
   "file_extension": ".jl",
   "mimetype": "application/julia",
   "name": "julia",
   "version": "1.1.1"
  }
 },
 "nbformat": 4,
 "nbformat_minor": 4
}
