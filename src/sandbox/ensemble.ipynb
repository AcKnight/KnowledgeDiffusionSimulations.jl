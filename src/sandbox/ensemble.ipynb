{
 "cells": [
  {
   "cell_type": "code",
   "execution_count": 1,
   "metadata": {},
   "outputs": [],
   "source": [
    "using DifferentialEquations\n",
    "using DifferentialEquations.EnsembleAnalysis\n",
    "using StatsBase, DataFrames\n",
    "using Parameters, Plots, BenchmarkTools"
   ]
  },
  {
   "cell_type": "markdown",
   "metadata": {},
   "source": [
    "### Jump Problem Setup"
   ]
  },
  {
   "cell_type": "code",
   "execution_count": null,
   "metadata": {},
   "outputs": [],
   "source": [
    "# L11-23 from src/single_jump_instead_of_many.jl\n",
    "function affect!(integrator)\n",
    "  n = rand(1:integrator.p.N)\n",
    "  n2 = rand(1:integrator.p.N)\n",
    "  integrator.u[n] = max(integrator.u[n], integrator.u[n2])\n",
    "end\n",
    "\n",
    "function μ_SDE(du,u,p,t)\n",
    "  du .= p.μ\n",
    "end\n",
    "\n",
    "function σ_SDE(du,u,p,t)\n",
    "  du .= p.σ\n",
    "end"
   ]
  },
  {
   "cell_type": "code",
   "execution_count": null,
   "metadata": {},
   "outputs": [],
   "source": [
    "params = @with_kw (\n",
    "    μ = 0.01, # mean\n",
    "    σ = 0.1, # drift\n",
    "    N = 10, # num particles\n",
    "    β = 0.2, # rate parameter\n",
    "    t = 0.:0.01:10., # saveat\n",
    "    moments = Array{Array{Float64, 1}, 1}())\n",
    "\n",
    "p = params()"
   ]
  },
  {
   "cell_type": "code",
   "execution_count": null,
   "metadata": {},
   "outputs": [],
   "source": [
    "x_iv = rand(p.N)  # just draws from the inital condition\n",
    "\n",
    "prob = SDEProblem(μ_SDE, σ_SDE, x_iv ,(0.0, p.t[end]), p)\n",
    "rate(u,p,t) = p.β*p.N\n",
    "jump = ConstantRateJump(rate,affect!)\n",
    "jump_prob = JumpProblem(prob,Direct(),jump)"
   ]
  },
  {
   "cell_type": "markdown",
   "metadata": {},
   "source": [
    "### Callback Setup"
   ]
  },
  {
   "cell_type": "code",
   "execution_count": null,
   "metadata": {},
   "outputs": [],
   "source": [
    "function save_func(u, t, integrator) \n",
    "    if length(integrator.p.moments) == 0 \n",
    "        g = 0.\n",
    "    else\n",
    "        g = (mean(u) - integrator.p.moments[end][2])/step(integrator.p.t)\n",
    "    end            \n",
    "    moments = [minimum(u), mean(u), maximum(u), g]\n",
    "    push!(integrator.p.moments, moments) \n",
    "end"
   ]
  },
  {
   "cell_type": "code",
   "execution_count": null,
   "metadata": {},
   "outputs": [],
   "source": [
    "cb = FunctionCallingCallback(save_func;\n",
    "                 funcat=p.t,\n",
    "                 func_everystep=false,\n",
    "                 func_start = true,\n",
    "                 tdir=1)"
   ]
  },
  {
   "cell_type": "markdown",
   "metadata": {},
   "source": [
    "### Ensemble Setup"
   ]
  },
  {
   "cell_type": "code",
   "execution_count": null,
   "metadata": {},
   "outputs": [],
   "source": [
    "function output_func(sol, i)\n",
    "    resize!(sol.t, 0)\n",
    "    resize!(sol.u, 0)\n",
    "    append!(sol.t, sol.prob.p.t) # or something like that... need the `t` values we used for the moments\n",
    "    append!(sol.u, sol.prob.p.moments)\n",
    "    return (sol, false)\n",
    "end"
   ]
  },
  {
   "cell_type": "code",
   "execution_count": null,
   "metadata": {},
   "outputs": [],
   "source": [
    "ensemble_prob = EnsembleProblem(prob, output_func = output_func)"
   ]
  },
  {
   "cell_type": "markdown",
   "metadata": {},
   "source": [
    "### Solve and Plot"
   ]
  },
  {
   "cell_type": "code",
   "execution_count": null,
   "metadata": {},
   "outputs": [],
   "source": [
    "sim = solve(ensemble_prob, SRIW1(), EnsembleSerial(), trajectories = 2, callback = cb, save_everystep = false)"
   ]
  },
  {
   "cell_type": "code",
   "execution_count": null,
   "metadata": {},
   "outputs": [],
   "source": [
    "plot(sim)"
   ]
  },
  {
   "cell_type": "code",
   "execution_count": null,
   "metadata": {},
   "outputs": [],
   "source": [
    "summ = EnsembleSummary(sim)"
   ]
  },
  {
   "cell_type": "code",
   "execution_count": null,
   "metadata": {},
   "outputs": [],
   "source": [
    "p1 = plot(summ, idxs = [1], error_style = :none, title = \"Min\")\n",
    "p2 = plot(summ, idxs = [2], error_style = :none, title = \"Mean\")\n",
    "p3 = plot(summ, idxs = [3], error_style = :none, title = \"Max\")\n",
    "p4 = plot(summ, idxs = [4], error_style = :none, title = \"Growth\")\n",
    "\n",
    "plot(p1, p2, p3, p4)"
   ]
  }
 ],
 "metadata": {
  "kernelspec": {
   "display_name": "Julia 1.1.1",
   "language": "julia",
   "name": "julia-1.1"
  },
  "language_info": {
   "file_extension": ".jl",
   "mimetype": "application/julia",
   "name": "julia",
   "version": "1.1.1"
  }
 },
 "nbformat": 4,
 "nbformat_minor": 2
}
