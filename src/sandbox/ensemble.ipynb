{
 "cells": [
  {
   "cell_type": "markdown",
   "metadata": {},
   "source": [
    "## Setup"
   ]
  },
  {
   "cell_type": "code",
   "execution_count": 1,
   "metadata": {},
   "outputs": [
    {
     "data": {
      "text/plain": [
       "17"
      ]
     },
     "execution_count": 1,
     "metadata": {},
     "output_type": "execute_result"
    }
   ],
   "source": [
    "using Distributed \n",
    "Distributed.addprocs()\n",
    "Distributed.nprocs() # check if enough workers are available. should be n + 1, where n is # of logical cores. "
   ]
  },
  {
   "cell_type": "code",
   "execution_count": 2,
   "metadata": {},
   "outputs": [],
   "source": [
    "@everywhere using DifferentialEquations # will load on each core"
   ]
  },
  {
   "cell_type": "code",
   "execution_count": 4,
   "metadata": {},
   "outputs": [],
   "source": [
    "# test on obsolete code for now\n",
    "using StochasticDiffEq, DiffEqJump, Plots\n",
    "\n",
    "struct AffectIndex{F1, F2}\n",
    "    affect_index!::F1\n",
    "    index::F2\n",
    "  end\n",
    "\n",
    "function (p::AffectIndex)(integrator)\n",
    "      return p.affect_index!(integrator, p.index)\n",
    "end\n",
    "  \n",
    "function f(du,u,p,t)\n",
    "    du[1] = u[1]\n",
    "end\n",
    "  \n",
    "function g(du,u,p,t)\n",
    "    du[1] = u[1]\n",
    "end\n",
    "iv = [0.2]\n",
    "prob = SDEProblem(f,g,iv,(0.0,10.0))\n",
    "\n",
    "rate(u,p,t) = 2\n",
    "affect_index!(integrator, index) = (integrator.u[index] = integrator.u[index]/2 )\n",
    "#(integrator.u[index] = integrator.u[index]/2)\n",
    "jumps = [ConstantRateJump(rate,AffectIndex(affect_index!, 1)) for i in 1:2 ]\n",
    "jump_prob = JumpProblem(prob,Direct(),JumpSet((), jumps, nothing, nothing));"
   ]
  },
  {
   "cell_type": "markdown",
   "metadata": {},
   "source": [
    "## Ensemble"
   ]
  },
  {
   "cell_type": "code",
   "execution_count": 23,
   "metadata": {},
   "outputs": [
    {
     "data": {
      "text/plain": [
       "(:f, :g, :u0, :tspan, :p, :noise, :callback, :noise_rate_prototype, :seed)"
      ]
     },
     "execution_count": 23,
     "metadata": {},
     "output_type": "execute_result"
    }
   ],
   "source": [
    "propertynames(jump_prob.prob)"
   ]
  },
  {
   "cell_type": "code",
   "execution_count": 24,
   "metadata": {},
   "outputs": [],
   "source": [
    "# alter the problem initial condition with each run \n",
    "@everywhere function prob_func(prob,i,repeat) # different initial conditions\n",
    "  new_prob = SDEProblem(prob.prob.f, prob.prob.g, rand()*prob.prob.u0, prob.prob.tspan)\n",
    "  JumpProblem(new_prob,Direct(),JumpSet((), jumps, nothing, nothing))\n",
    "end"
   ]
  },
  {
   "cell_type": "code",
   "execution_count": 100,
   "metadata": {},
   "outputs": [
    {
     "ename": "ArgumentError",
     "evalue": "ArgumentError: Package Iterators not found in current path:\n- Run `import Pkg; Pkg.add(\"Iterators\")` to install the Iterators package.\n",
     "output_type": "error",
     "traceback": [
      "ArgumentError: Package Iterators not found in current path:\n- Run `import Pkg; Pkg.add(\"Iterators\")` to install the Iterators package.\n",
      "",
      "Stacktrace:",
      " [1] require(::Module, ::Symbol) at ./loading.jl:876",
      " [2] top-level scope at /Users/julia/buildbot/worker/package_macos64/build/usr/share/julia/stdlib/v1.2/Distributed/src/macros.jl:181",
      " [3] top-level scope at In[100]:1"
     ]
    }
   ],
   "source": [
    "@everywhere using StatsBas"
   ]
  },
  {
   "cell_type": "code",
   "execution_count": 97,
   "metadata": {},
   "outputs": [],
   "source": [
    "# try it with both\n",
    "@everywhere function reduction_func(u, data, i)\n",
    "    sols = [datum.u for datum in data];\n",
    "    u = append!(u, summarystats(flatten(sols)))\n",
    "    return (u, false)\n",
    "end "
   ]
  },
  {
   "cell_type": "code",
   "execution_count": 98,
   "metadata": {},
   "outputs": [
    {
     "data": {
      "text/plain": [
       "EnsembleProblem with problem JumpProblem"
      ]
     },
     "execution_count": 98,
     "metadata": {},
     "output_type": "execute_result"
    }
   ],
   "source": [
    "ensemble_prob = EnsembleProblem(jump_prob;\n",
    "                prob_func= prob_func,\n",
    "                reduction = reduction_func,\n",
    "                u_init = [])"
   ]
  },
  {
   "cell_type": "code",
   "execution_count": 99,
   "metadata": {},
   "outputs": [
    {
     "ename": "UndefVarError",
     "evalue": "UndefVarError: flatten not defined",
     "output_type": "error",
     "traceback": [
      "UndefVarError: flatten not defined",
      "",
      "Stacktrace:",
      " [1] reduction_func(::Array{Any,1}, ::Array{RODESolution{Float64,2,Array{Array{Float64,1},1},Nothing,Nothing,Array{Float64,1},NoiseProcess{Float64,2,Float64,Array{Float64,1},Array{Float64,1},Array{Array{Float64,1},1},typeof(DiffEqNoiseProcess.INPLACE_WHITE_NOISE_DIST),typeof(DiffEqNoiseProcess.INPLACE_WHITE_NOISE_BRIDGE),true,DataStructures.Stack{Tuple{Float64,Array{Float64,1},Array{Float64,1}}},ResettableStacks.ResettableStack{Tuple{Float64,Array{Float64,1},Array{Float64,1}},true},RSWM{:RSwM3,Float64},RandomNumbers.Xorshifts.Xoroshiro128Plus},SDEProblem{Array{Float64,1},Tuple{Float64,Float64},true,Nothing,Nothing,SDEFunction{true,typeof(f),typeof(g),LinearAlgebra.UniformScaling{Bool},Nothing,Nothing,Nothing,Nothing,Nothing,Nothing,Nothing,Nothing,Nothing,Nothing},typeof(g),Nothing,Nothing},SOSRI,StochasticDiffEq.LinearInterpolationData{Array{Array{Float64,1},1},Array{Float64,1}},DiffEqBase.DEStats},1}, ::UnitRange{Int64}) at ./In[97]:4",
      " [2] macro expansion at /Users/arnavsood/.julia/packages/DiffEqBase/LCorD/src/ensemble/basic_ensemble_solve.jl:73 [inlined]",
      " [3] macro expansion at ./util.jl:213 [inlined]",
      " [4] #__solve#317(::Int64, ::Int64, ::Int64, ::Base.Iterators.Pairs{Symbol,Bool,Tuple{Symbol},NamedTuple{(:default_set,),Tuple{Bool}}}, ::typeof(DiffEqBase.__solve), ::EnsembleProblem{JumpProblem{SDEProblem{Array{Float64,1},Tuple{Float64,Float64},true,Nothing,Nothing,SDEFunction{true,typeof(f),typeof(g),LinearAlgebra.UniformScaling{Bool},Nothing,Nothing,Nothing,Nothing,Nothing,Nothing,Nothing,Nothing,Nothing,Nothing},typeof(g),Nothing,Nothing},Direct,CallbackSet{Tuple{},Tuple{DiscreteCallback{DiffEqJump.DirectJumpAggregation{Float64,MassActionJump{Array{Float64,1},Array{Array{Pair{Int64,Float64},1},1},Array{Array{Pair{Int64,Float64},1},1}},Tuple{typeof(rate),typeof(rate)},Tuple{AffectIndex{typeof(affect_index!),Int64},AffectIndex{typeof(affect_index!),Int64}},RandomNumbers.Xorshifts.Xoroshiro128Star},DiffEqJump.DirectJumpAggregation{Float64,MassActionJump{Array{Float64,1},Array{Array{Pair{Int64,Float64},1},1},Array{Array{Pair{Int64,Float64},1},1}},Tuple{typeof(rate),typeof(rate)},Tuple{AffectIndex{typeof(affect_index!),Int64},AffectIndex{typeof(affect_index!),Int64}},RandomNumbers.Xorshifts.Xoroshiro128Star},DiffEqJump.DirectJumpAggregation{Float64,MassActionJump{Array{Float64,1},Array{Array{Pair{Int64,Float64},1},1},Array{Array{Pair{Int64,Float64},1},1}},Tuple{typeof(rate),typeof(rate)},Tuple{AffectIndex{typeof(affect_index!),Int64},AffectIndex{typeof(affect_index!),Int64}},RandomNumbers.Xorshifts.Xoroshiro128Star}}}},DiffEqJump.DirectJumpAggregation{Float64,MassActionJump{Array{Float64,1},Array{Array{Pair{Int64,Float64},1},1},Array{Array{Pair{Int64,Float64},1},1}},Tuple{typeof(rate),typeof(rate)},Tuple{AffectIndex{typeof(affect_index!),Int64},AffectIndex{typeof(affect_index!),Int64}},RandomNumbers.Xorshifts.Xoroshiro128Star},Tuple{},Nothing,Nothing},typeof(prob_func),getfield(DiffEqBase, Symbol(\"##294#300\")),typeof(reduction_func),Array{Any,1}}, ::Nothing, ::EnsembleSerial) at /Users/arnavsood/.julia/packages/DiffEqBase/LCorD/src/ensemble/basic_ensemble_solve.jl:66",
      " [5] (::getfield(DiffEqBase, Symbol(\"#kw##__solve\")))(::NamedTuple{(:trajectories, :default_set, :batch_size),Tuple{Int64,Bool,Int64}}, ::typeof(DiffEqBase.__solve), ::EnsembleProblem{JumpProblem{SDEProblem{Array{Float64,1},Tuple{Float64,Float64},true,Nothing,Nothing,SDEFunction{true,typeof(f),typeof(g),LinearAlgebra.UniformScaling{Bool},Nothing,Nothing,Nothing,Nothing,Nothing,Nothing,Nothing,Nothing,Nothing,Nothing},typeof(g),Nothing,Nothing},Direct,CallbackSet{Tuple{},Tuple{DiscreteCallback{DiffEqJump.DirectJumpAggregation{Float64,MassActionJump{Array{Float64,1},Array{Array{Pair{Int64,Float64},1},1},Array{Array{Pair{Int64,Float64},1},1}},Tuple{typeof(rate),typeof(rate)},Tuple{AffectIndex{typeof(affect_index!),Int64},AffectIndex{typeof(affect_index!),Int64}},RandomNumbers.Xorshifts.Xoroshiro128Star},DiffEqJump.DirectJumpAggregation{Float64,MassActionJump{Array{Float64,1},Array{Array{Pair{Int64,Float64},1},1},Array{Array{Pair{Int64,Float64},1},1}},Tuple{typeof(rate),typeof(rate)},Tuple{AffectIndex{typeof(affect_index!),Int64},AffectIndex{typeof(affect_index!),Int64}},RandomNumbers.Xorshifts.Xoroshiro128Star},DiffEqJump.DirectJumpAggregation{Float64,MassActionJump{Array{Float64,1},Array{Array{Pair{Int64,Float64},1},1},Array{Array{Pair{Int64,Float64},1},1}},Tuple{typeof(rate),typeof(rate)},Tuple{AffectIndex{typeof(affect_index!),Int64},AffectIndex{typeof(affect_index!),Int64}},RandomNumbers.Xorshifts.Xoroshiro128Star}}}},DiffEqJump.DirectJumpAggregation{Float64,MassActionJump{Array{Float64,1},Array{Array{Pair{Int64,Float64},1},1},Array{Array{Pair{Int64,Float64},1},1}},Tuple{typeof(rate),typeof(rate)},Tuple{AffectIndex{typeof(affect_index!),Int64},AffectIndex{typeof(affect_index!),Int64}},RandomNumbers.Xorshifts.Xoroshiro128Star},Tuple{},Nothing,Nothing},typeof(prob_func),getfield(DiffEqBase, Symbol(\"##294#300\")),typeof(reduction_func),Array{Any,1}}, ::Nothing, ::EnsembleSerial) at ./none:0",
      " [6] #__solve#316(::Base.Iterators.Pairs{Symbol,Integer,Tuple{Symbol,Symbol,Symbol},NamedTuple{(:default_set, :trajectories, :batch_size),Tuple{Bool,Int64,Int64}}}, ::typeof(DiffEqBase.__solve), ::EnsembleProblem{JumpProblem{SDEProblem{Array{Float64,1},Tuple{Float64,Float64},true,Nothing,Nothing,SDEFunction{true,typeof(f),typeof(g),LinearAlgebra.UniformScaling{Bool},Nothing,Nothing,Nothing,Nothing,Nothing,Nothing,Nothing,Nothing,Nothing,Nothing},typeof(g),Nothing,Nothing},Direct,CallbackSet{Tuple{},Tuple{DiscreteCallback{DiffEqJump.DirectJumpAggregation{Float64,MassActionJump{Array{Float64,1},Array{Array{Pair{Int64,Float64},1},1},Array{Array{Pair{Int64,Float64},1},1}},Tuple{typeof(rate),typeof(rate)},Tuple{AffectIndex{typeof(affect_index!),Int64},AffectIndex{typeof(affect_index!),Int64}},RandomNumbers.Xorshifts.Xoroshiro128Star},DiffEqJump.DirectJumpAggregation{Float64,MassActionJump{Array{Float64,1},Array{Array{Pair{Int64,Float64},1},1},Array{Array{Pair{Int64,Float64},1},1}},Tuple{typeof(rate),typeof(rate)},Tuple{AffectIndex{typeof(affect_index!),Int64},AffectIndex{typeof(affect_index!),Int64}},RandomNumbers.Xorshifts.Xoroshiro128Star},DiffEqJump.DirectJumpAggregation{Float64,MassActionJump{Array{Float64,1},Array{Array{Pair{Int64,Float64},1},1},Array{Array{Pair{Int64,Float64},1},1}},Tuple{typeof(rate),typeof(rate)},Tuple{AffectIndex{typeof(affect_index!),Int64},AffectIndex{typeof(affect_index!),Int64}},RandomNumbers.Xorshifts.Xoroshiro128Star}}}},DiffEqJump.DirectJumpAggregation{Float64,MassActionJump{Array{Float64,1},Array{Array{Pair{Int64,Float64},1},1},Array{Array{Pair{Int64,Float64},1},1}},Tuple{typeof(rate),typeof(rate)},Tuple{AffectIndex{typeof(affect_index!),Int64},AffectIndex{typeof(affect_index!),Int64}},RandomNumbers.Xorshifts.Xoroshiro128Star},Tuple{},Nothing,Nothing},typeof(prob_func),getfield(DiffEqBase, Symbol(\"##294#300\")),typeof(reduction_func),Array{Any,1}}, ::Nothing) at /Users/arnavsood/.julia/packages/DiffEqBase/LCorD/src/ensemble/basic_ensemble_solve.jl:52",
      " [7] #__solve at ./none:0 [inlined]",
      " [8] #__solve#1 at /Users/arnavsood/.julia/packages/DifferentialEquations/4jSpr/src/default_solve.jl:5 [inlined]",
      " [9] #__solve at ./none:0 [inlined]",
      " [10] #solve#387 at /Users/arnavsood/.julia/packages/DiffEqBase/LCorD/src/solve.jl:46 [inlined]",
      " [11] (::getfield(DiffEqBase, Symbol(\"#kw##solve\")))(::NamedTuple{(:trajectories, :batch_size),Tuple{Int64,Int64}}, ::typeof(solve), ::EnsembleProblem{JumpProblem{SDEProblem{Array{Float64,1},Tuple{Float64,Float64},true,Nothing,Nothing,SDEFunction{true,typeof(f),typeof(g),LinearAlgebra.UniformScaling{Bool},Nothing,Nothing,Nothing,Nothing,Nothing,Nothing,Nothing,Nothing,Nothing,Nothing},typeof(g),Nothing,Nothing},Direct,CallbackSet{Tuple{},Tuple{DiscreteCallback{DiffEqJump.DirectJumpAggregation{Float64,MassActionJump{Array{Float64,1},Array{Array{Pair{Int64,Float64},1},1},Array{Array{Pair{Int64,Float64},1},1}},Tuple{typeof(rate),typeof(rate)},Tuple{AffectIndex{typeof(affect_index!),Int64},AffectIndex{typeof(affect_index!),Int64}},RandomNumbers.Xorshifts.Xoroshiro128Star},DiffEqJump.DirectJumpAggregation{Float64,MassActionJump{Array{Float64,1},Array{Array{Pair{Int64,Float64},1},1},Array{Array{Pair{Int64,Float64},1},1}},Tuple{typeof(rate),typeof(rate)},Tuple{AffectIndex{typeof(affect_index!),Int64},AffectIndex{typeof(affect_index!),Int64}},RandomNumbers.Xorshifts.Xoroshiro128Star},DiffEqJump.DirectJumpAggregation{Float64,MassActionJump{Array{Float64,1},Array{Array{Pair{Int64,Float64},1},1},Array{Array{Pair{Int64,Float64},1},1}},Tuple{typeof(rate),typeof(rate)},Tuple{AffectIndex{typeof(affect_index!),Int64},AffectIndex{typeof(affect_index!),Int64}},RandomNumbers.Xorshifts.Xoroshiro128Star}}}},DiffEqJump.DirectJumpAggregation{Float64,MassActionJump{Array{Float64,1},Array{Array{Pair{Int64,Float64},1},1},Array{Array{Pair{Int64,Float64},1},1}},Tuple{typeof(rate),typeof(rate)},Tuple{AffectIndex{typeof(affect_index!),Int64},AffectIndex{typeof(affect_index!),Int64}},RandomNumbers.Xorshifts.Xoroshiro128Star},Tuple{},Nothing,Nothing},typeof(prob_func),getfield(DiffEqBase, Symbol(\"##294#300\")),typeof(reduction_func),Array{Any,1}}) at ./none:0",
      " [12] top-level scope at In[99]:1"
     ]
    }
   ],
   "source": [
    "sim = solve(ensemble_prob, trajectories = 1000, batch_size = 1000);"
   ]
  },
  {
   "cell_type": "code",
   "execution_count": null,
   "metadata": {},
   "outputs": [],
   "source": [
    "sim."
   ]
  }
 ],
 "metadata": {
  "kernelspec": {
   "display_name": "Julia 1.2.0-rc2",
   "language": "julia",
   "name": "julia-1.2"
  },
  "language_info": {
   "file_extension": ".jl",
   "mimetype": "application/julia",
   "name": "julia",
   "version": "1.2.0"
  }
 },
 "nbformat": 4,
 "nbformat_minor": 4
}
