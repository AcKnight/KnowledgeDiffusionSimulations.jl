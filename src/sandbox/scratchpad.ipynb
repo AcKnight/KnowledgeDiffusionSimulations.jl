{
 "cells": [
  {
   "cell_type": "code",
   "execution_count": 2,
   "metadata": {},
   "outputs": [],
   "source": [
    "using DifferentialEquations, Plots\n",
    "using DifferentialEquations.EnsembleAnalysis\n",
    "using StatsBase, DataFrames"
   ]
  },
  {
   "cell_type": "code",
   "execution_count": 67,
   "metadata": {},
   "outputs": [
    {
     "data": {
      "text/plain": [
       "σ_SDE (generic function with 1 method)"
      ]
     },
     "execution_count": 67,
     "metadata": {},
     "output_type": "execute_result"
    }
   ],
   "source": [
    "# Drift and Mean\n",
    "function μ_SDE(du,u,p,t)\n",
    "  du .= p.μ\n",
    "end\n",
    "\n",
    "function σ_SDE(du,u,p,t)\n",
    "  du .= p.σ\n",
    "end"
   ]
  },
  {
   "cell_type": "code",
   "execution_count": 80,
   "metadata": {},
   "outputs": [
    {
     "data": {
      "text/plain": [
       "save_func (generic function with 1 method)"
      ]
     },
     "execution_count": 80,
     "metadata": {},
     "output_type": "execute_result"
    }
   ],
   "source": [
    "T = 10.;\n",
    "function save_func(u, t, integrator) \n",
    "    if length(integrator.p.moments) == 0 \n",
    "        g = 0.\n",
    "    else\n",
    "        g = mean(u) - integrator.p.moments[end][2]\n",
    "    end            \n",
    "    moments = [minimum(u), mean(u), maximum(u), g]\n",
    "    push!(integrator.p.moments, moments) \n",
    "end "
   ]
  },
  {
   "cell_type": "code",
   "execution_count": 81,
   "metadata": {},
   "outputs": [
    {
     "data": {
      "text/plain": [
       "0.0:0.1:10.0"
      ]
     },
     "execution_count": 81,
     "metadata": {},
     "output_type": "execute_result"
    }
   ],
   "source": [
    "p = (μ = 0.01, σ = 0.1, N = 3, moments = Array{Array{Float64, 1}, 1}());\n",
    "x_iv = rand(p.N)\n",
    "prob = SDEProblem(μ_SDE, σ_SDE, x_iv ,(0.0, T), p);\n",
    "saveat = 0:0.1:T"
   ]
  },
  {
   "cell_type": "code",
   "execution_count": 82,
   "metadata": {},
   "outputs": [],
   "source": [
    "cb = FunctionCallingCallback(save_func;\n",
    "                 funcat=saveat,\n",
    "                 func_everystep=true,\n",
    "                 func_start = true,\n",
    "                 tdir=1);"
   ]
  },
  {
   "cell_type": "code",
   "execution_count": 83,
   "metadata": {},
   "outputs": [
    {
     "data": {
      "text/plain": [
       "prob_func (generic function with 1 method)"
      ]
     },
     "execution_count": 83,
     "metadata": {},
     "output_type": "execute_result"
    }
   ],
   "source": [
    "function output_func(sol, i)\n",
    "    return (u = sol.prob.p.moments, t = sol.t), false\n",
    "end\n",
    "    \n",
    "function prob_func(prob,i,repeat)\n",
    "    p = (μ = 0.01, σ = 0.1, N = 3, moments = Array{Array{Float64, 1}, 1}());\n",
    "    SDEProblem(μ_SDE, σ_SDE, x_iv ,(0.0, T), p);\n",
    "end"
   ]
  },
  {
   "cell_type": "code",
   "execution_count": 84,
   "metadata": {},
   "outputs": [
    {
     "data": {
      "text/plain": [
       "EnsembleProblem with problem SDEProblem"
      ]
     },
     "execution_count": 84,
     "metadata": {},
     "output_type": "execute_result"
    }
   ],
   "source": [
    "ensemble_prob = EnsembleProblem(prob, prob_func = prob_func, output_func = output_func)"
   ]
  },
  {
   "cell_type": "code",
   "execution_count": 85,
   "metadata": {},
   "outputs": [
    {
     "data": {
      "text/plain": [
       "EnsembleSolution Solution of length 2 with uType:\n",
       "NamedTuple{(:u, :t),Tuple{Array{Array{Float64,1},1},Array{Float64,1}}}"
      ]
     },
     "execution_count": 85,
     "metadata": {},
     "output_type": "execute_result"
    }
   ],
   "source": [
    "sim = solve(ensemble_prob,Tsit5(), EnsembleSerial(), trajectories = 2, callback = cb)"
   ]
  },
  {
   "cell_type": "code",
   "execution_count": 92,
   "metadata": {},
   "outputs": [
    {
     "data": {
      "image/svg+xml": [
       "<?xml version=\"1.0\" encoding=\"utf-8\"?>\n",
       "<svg xmlns=\"http://www.w3.org/2000/svg\" xmlns:xlink=\"http://www.w3.org/1999/xlink\" width=\"600\" height=\"400\" viewBox=\"0 0 2400 1600\">\n",
       "<defs>\n",
       "  <clipPath id=\"clip5100\">\n",
       "    <rect x=\"0\" y=\"0\" width=\"2400\" height=\"1600\"/>\n",
       "  </clipPath>\n",
       "</defs>\n",
       "<polygon clip-path=\"url(#clip5100)\" points=\"\n",
       "0,1600 2400,1600 2400,0 0,0 \n",
       "  \" fill=\"#ffffff\" fill-rule=\"evenodd\" fill-opacity=\"1\"/>\n",
       "<defs>\n",
       "  <clipPath id=\"clip5101\">\n",
       "    <rect x=\"480\" y=\"0\" width=\"1681\" height=\"1600\"/>\n",
       "  </clipPath>\n",
       "</defs>\n",
       "<polygon clip-path=\"url(#clip5100)\" points=\"\n",
       "208.77,1487.47 2352.76,1487.47 2352.76,47.2441 208.77,47.2441 \n",
       "  \" fill=\"#ffffff\" fill-rule=\"evenodd\" fill-opacity=\"1\"/>\n",
       "<defs>\n",
       "  <clipPath id=\"clip5102\">\n",
       "    <rect x=\"208\" y=\"47\" width=\"2145\" height=\"1441\"/>\n",
       "  </clipPath>\n",
       "</defs>\n",
       "<polyline clip-path=\"url(#clip5102)\" style=\"stroke:#000000; stroke-width:2; stroke-opacity:0.1; fill:none\" points=\"\n",
       "  258.336,1487.47 258.336,47.2441 \n",
       "  \"/>\n",
       "<polyline clip-path=\"url(#clip5102)\" style=\"stroke:#000000; stroke-width:2; stroke-opacity:0.1; fill:none\" points=\"\n",
       "  814.003,1487.47 814.003,47.2441 \n",
       "  \"/>\n",
       "<polyline clip-path=\"url(#clip5102)\" style=\"stroke:#000000; stroke-width:2; stroke-opacity:0.1; fill:none\" points=\"\n",
       "  1369.67,1487.47 1369.67,47.2441 \n",
       "  \"/>\n",
       "<polyline clip-path=\"url(#clip5102)\" style=\"stroke:#000000; stroke-width:2; stroke-opacity:0.1; fill:none\" points=\"\n",
       "  1925.34,1487.47 1925.34,47.2441 \n",
       "  \"/>\n",
       "<polyline clip-path=\"url(#clip5102)\" style=\"stroke:#000000; stroke-width:2; stroke-opacity:0.1; fill:none\" points=\"\n",
       "  208.77,1438.49 2352.76,1438.49 \n",
       "  \"/>\n",
       "<polyline clip-path=\"url(#clip5102)\" style=\"stroke:#000000; stroke-width:2; stroke-opacity:0.1; fill:none\" points=\"\n",
       "  208.77,1200.93 2352.76,1200.93 \n",
       "  \"/>\n",
       "<polyline clip-path=\"url(#clip5102)\" style=\"stroke:#000000; stroke-width:2; stroke-opacity:0.1; fill:none\" points=\"\n",
       "  208.77,963.358 2352.76,963.358 \n",
       "  \"/>\n",
       "<polyline clip-path=\"url(#clip5102)\" style=\"stroke:#000000; stroke-width:2; stroke-opacity:0.1; fill:none\" points=\"\n",
       "  208.77,725.789 2352.76,725.789 \n",
       "  \"/>\n",
       "<polyline clip-path=\"url(#clip5102)\" style=\"stroke:#000000; stroke-width:2; stroke-opacity:0.1; fill:none\" points=\"\n",
       "  208.77,488.221 2352.76,488.221 \n",
       "  \"/>\n",
       "<polyline clip-path=\"url(#clip5102)\" style=\"stroke:#000000; stroke-width:2; stroke-opacity:0.1; fill:none\" points=\"\n",
       "  208.77,250.652 2352.76,250.652 \n",
       "  \"/>\n",
       "<polyline clip-path=\"url(#clip5100)\" style=\"stroke:#000000; stroke-width:4; stroke-opacity:1; fill:none\" points=\"\n",
       "  208.77,1487.47 2352.76,1487.47 \n",
       "  \"/>\n",
       "<polyline clip-path=\"url(#clip5100)\" style=\"stroke:#000000; stroke-width:4; stroke-opacity:1; fill:none\" points=\"\n",
       "  208.77,1487.47 208.77,47.2441 \n",
       "  \"/>\n",
       "<polyline clip-path=\"url(#clip5100)\" style=\"stroke:#000000; stroke-width:4; stroke-opacity:1; fill:none\" points=\"\n",
       "  258.336,1487.47 258.336,1465.87 \n",
       "  \"/>\n",
       "<polyline clip-path=\"url(#clip5100)\" style=\"stroke:#000000; stroke-width:4; stroke-opacity:1; fill:none\" points=\"\n",
       "  814.003,1487.47 814.003,1465.87 \n",
       "  \"/>\n",
       "<polyline clip-path=\"url(#clip5100)\" style=\"stroke:#000000; stroke-width:4; stroke-opacity:1; fill:none\" points=\"\n",
       "  1369.67,1487.47 1369.67,1465.87 \n",
       "  \"/>\n",
       "<polyline clip-path=\"url(#clip5100)\" style=\"stroke:#000000; stroke-width:4; stroke-opacity:1; fill:none\" points=\"\n",
       "  1925.34,1487.47 1925.34,1465.87 \n",
       "  \"/>\n",
       "<polyline clip-path=\"url(#clip5100)\" style=\"stroke:#000000; stroke-width:4; stroke-opacity:1; fill:none\" points=\"\n",
       "  208.77,1438.49 240.93,1438.49 \n",
       "  \"/>\n",
       "<polyline clip-path=\"url(#clip5100)\" style=\"stroke:#000000; stroke-width:4; stroke-opacity:1; fill:none\" points=\"\n",
       "  208.77,1200.93 240.93,1200.93 \n",
       "  \"/>\n",
       "<polyline clip-path=\"url(#clip5100)\" style=\"stroke:#000000; stroke-width:4; stroke-opacity:1; fill:none\" points=\"\n",
       "  208.77,963.358 240.93,963.358 \n",
       "  \"/>\n",
       "<polyline clip-path=\"url(#clip5100)\" style=\"stroke:#000000; stroke-width:4; stroke-opacity:1; fill:none\" points=\"\n",
       "  208.77,725.789 240.93,725.789 \n",
       "  \"/>\n",
       "<polyline clip-path=\"url(#clip5100)\" style=\"stroke:#000000; stroke-width:4; stroke-opacity:1; fill:none\" points=\"\n",
       "  208.77,488.221 240.93,488.221 \n",
       "  \"/>\n",
       "<polyline clip-path=\"url(#clip5100)\" style=\"stroke:#000000; stroke-width:4; stroke-opacity:1; fill:none\" points=\"\n",
       "  208.77,250.652 240.93,250.652 \n",
       "  \"/>\n",
       "<g clip-path=\"url(#clip5100)\">\n",
       "<text style=\"fill:#000000; fill-opacity:1; font-family:Arial,Helvetica Neue,Helvetica,sans-serif; font-size:48px; text-anchor:middle;\" transform=\"rotate(0, 258.336, 1541.47)\" x=\"258.336\" y=\"1541.47\">0</text>\n",
       "</g>\n",
       "<g clip-path=\"url(#clip5100)\">\n",
       "<text style=\"fill:#000000; fill-opacity:1; font-family:Arial,Helvetica Neue,Helvetica,sans-serif; font-size:48px; text-anchor:middle;\" transform=\"rotate(0, 814.003, 1541.47)\" x=\"814.003\" y=\"1541.47\">50</text>\n",
       "</g>\n",
       "<g clip-path=\"url(#clip5100)\">\n",
       "<text style=\"fill:#000000; fill-opacity:1; font-family:Arial,Helvetica Neue,Helvetica,sans-serif; font-size:48px; text-anchor:middle;\" transform=\"rotate(0, 1369.67, 1541.47)\" x=\"1369.67\" y=\"1541.47\">100</text>\n",
       "</g>\n",
       "<g clip-path=\"url(#clip5100)\">\n",
       "<text style=\"fill:#000000; fill-opacity:1; font-family:Arial,Helvetica Neue,Helvetica,sans-serif; font-size:48px; text-anchor:middle;\" transform=\"rotate(0, 1925.34, 1541.47)\" x=\"1925.34\" y=\"1541.47\">150</text>\n",
       "</g>\n",
       "<g clip-path=\"url(#clip5100)\">\n",
       "<text style=\"fill:#000000; fill-opacity:1; font-family:Arial,Helvetica Neue,Helvetica,sans-serif; font-size:48px; text-anchor:end;\" transform=\"rotate(0, 184.77, 1455.99)\" x=\"184.77\" y=\"1455.99\">-0.03</text>\n",
       "</g>\n",
       "<g clip-path=\"url(#clip5100)\">\n",
       "<text style=\"fill:#000000; fill-opacity:1; font-family:Arial,Helvetica Neue,Helvetica,sans-serif; font-size:48px; text-anchor:end;\" transform=\"rotate(0, 184.77, 1218.43)\" x=\"184.77\" y=\"1218.43\">-0.02</text>\n",
       "</g>\n",
       "<g clip-path=\"url(#clip5100)\">\n",
       "<text style=\"fill:#000000; fill-opacity:1; font-family:Arial,Helvetica Neue,Helvetica,sans-serif; font-size:48px; text-anchor:end;\" transform=\"rotate(0, 184.77, 980.858)\" x=\"184.77\" y=\"980.858\">-0.01</text>\n",
       "</g>\n",
       "<g clip-path=\"url(#clip5100)\">\n",
       "<text style=\"fill:#000000; fill-opacity:1; font-family:Arial,Helvetica Neue,Helvetica,sans-serif; font-size:48px; text-anchor:end;\" transform=\"rotate(0, 184.77, 743.289)\" x=\"184.77\" y=\"743.289\">0.00</text>\n",
       "</g>\n",
       "<g clip-path=\"url(#clip5100)\">\n",
       "<text style=\"fill:#000000; fill-opacity:1; font-family:Arial,Helvetica Neue,Helvetica,sans-serif; font-size:48px; text-anchor:end;\" transform=\"rotate(0, 184.77, 505.721)\" x=\"184.77\" y=\"505.721\">0.01</text>\n",
       "</g>\n",
       "<g clip-path=\"url(#clip5100)\">\n",
       "<text style=\"fill:#000000; fill-opacity:1; font-family:Arial,Helvetica Neue,Helvetica,sans-serif; font-size:48px; text-anchor:end;\" transform=\"rotate(0, 184.77, 268.152)\" x=\"184.77\" y=\"268.152\">0.02</text>\n",
       "</g>\n",
       "<polyline clip-path=\"url(#clip5102)\" style=\"stroke:#009af9; stroke-width:4; stroke-opacity:1; fill:none\" points=\"\n",
       "  269.449,725.789 280.563,725.789 291.676,708.08 302.789,782.698 313.903,769.091 325.016,714.756 336.129,728.133 347.243,663.717 358.356,924.46 369.469,730.398 \n",
       "  380.583,712.507 391.696,598.093 402.809,739.594 413.923,548.537 425.036,647.338 436.149,755.666 447.263,798.121 458.376,706.448 469.489,691.752 480.603,591.292 \n",
       "  491.716,706.748 502.829,668.474 513.943,658.146 525.056,917.264 536.169,636.815 547.283,475.481 558.396,733.467 569.509,730.068 580.623,781.845 591.736,786.573 \n",
       "  602.849,980.196 613.963,746.669 625.076,572.775 636.189,902.382 647.303,656.792 658.416,541.609 669.529,777.066 680.643,723.359 691.756,708.026 702.869,590.873 \n",
       "  713.983,645.233 725.096,831.388 736.21,735.062 747.323,738.375 758.436,710.078 769.55,307.994 780.663,734.646 791.776,1074 802.89,764.85 814.003,934.905 \n",
       "  825.116,814.973 836.23,472.561 847.343,418.728 858.456,808.654 869.57,1061.89 880.683,809.478 891.796,1375.49 902.91,1446.71 914.023,681.318 925.136,458.97 \n",
       "  936.25,594.124 947.363,669.772 958.476,615.2 969.59,702.295 980.703,964.196 991.816,1028.51 1002.93,726.858 1014.04,351.26 1025.16,406.592 1036.27,641.468 \n",
       "  1047.38,166.429 1058.5,297.685 1069.61,696.644 1080.72,601.582 1091.84,634.022 1102.95,676.257 1114.06,536.142 1125.18,580.54 1136.29,782.436 1147.4,967.756 \n",
       "  1158.52,931.107 1169.63,736.727 1180.74,798.007 1191.86,796.521 1202.97,721.851 1214.08,534.433 1225.2,534.433 1236.31,706.992 1247.42,545.646 1258.54,526.023 \n",
       "  1269.65,676.105 1280.76,516.704 1291.88,447.488 1302.99,608.315 1314.1,911.242 1325.22,1046.7 1336.33,929.837 1347.44,692.808 1358.56,635.224 1369.67,647.655 \n",
       "  1380.78,730.21 1391.9,757.996 1403.01,757.996 1414.12,728.693 1425.24,894.742 1436.35,911.485 1447.46,788.448 1458.58,755.195 1469.69,770.171 1480.8,751.907 \n",
       "  1491.92,782.038 1503.03,862.469 1514.14,839.683 1525.26,663.466 1536.37,351.955 1547.48,351.955 1558.6,696.667 1569.71,1041.41 1580.82,1068.08 1591.94,838.145 \n",
       "  1603.05,629.757 1614.16,582.831 1625.28,642.936 1636.39,760.874 1647.5,809.237 1658.62,793.783 1669.73,736.017 1680.84,781.016 1691.96,781.016 1703.07,728.76 \n",
       "  1714.18,661.638 1725.3,657.991 1736.41,707.219 1747.52,368.365 1758.64,233.53 1769.75,496.387 1780.86,830.52 1791.98,921.922 1803.09,854.689 1814.2,673.941 \n",
       "  1825.32,574.537 1836.43,597.655 1847.54,782.652 1858.66,1097.82 1869.77,1097.82 1880.88,738.344 1892,161.108 1903.11,141.386 1914.22,613.649 1925.34,695.83 \n",
       "  1936.45,688.716 1947.56,712.67 1958.68,684.016 1969.79,661.139 1980.9,691.383 1992.02,695.505 2003.13,661.053 2014.24,679.906 2025.36,540.043 2036.47,88.0053 \n",
       "  2047.58,161.672 2058.7,697.943 2069.81,484.709 2080.92,484.709 2092.04,699.938 2103.15,935.891 2114.26,961.125 2125.38,804.751 2136.49,960.981 2147.6,1079.74 \n",
       "  2158.72,926.463 2169.83,518.218 2180.94,246.467 2192.06,339.629 2203.17,677.062 2214.28,475.086 2225.4,475.086 2236.51,717.9 2247.62,852.13 2258.74,856.235 \n",
       "  2269.85,761.263 2280.96,862.988 2292.08,725.789 \n",
       "  \"/>\n",
       "<polygon clip-path=\"url(#clip5100)\" points=\"\n",
       "1989.93,251.724 2280.76,251.724 2280.76,130.764 1989.93,130.764 \n",
       "  \" fill=\"#ffffff\" fill-rule=\"evenodd\" fill-opacity=\"1\"/>\n",
       "<polyline clip-path=\"url(#clip5100)\" style=\"stroke:#000000; stroke-width:4; stroke-opacity:1; fill:none\" points=\"\n",
       "  1989.93,251.724 2280.76,251.724 2280.76,130.764 1989.93,130.764 1989.93,251.724 \n",
       "  \"/>\n",
       "<polyline clip-path=\"url(#clip5100)\" style=\"stroke:#009af9; stroke-width:4; stroke-opacity:1; fill:none\" points=\"\n",
       "  2013.93,191.244 2157.93,191.244 \n",
       "  \"/>\n",
       "<g clip-path=\"url(#clip5100)\">\n",
       "<text style=\"fill:#000000; fill-opacity:1; font-family:Arial,Helvetica Neue,Helvetica,sans-serif; font-size:48px; text-anchor:start;\" transform=\"rotate(0, 2181.93, 208.744)\" x=\"2181.93\" y=\"208.744\">y1</text>\n",
       "</g>\n",
       "</svg>\n"
      ]
     },
     "execution_count": 92,
     "metadata": {},
     "output_type": "execute_result"
    }
   ],
   "source": [
    "plot([x[4] for x in sim.u[1].u])"
   ]
  },
  {
   "cell_type": "code",
   "execution_count": null,
   "metadata": {},
   "outputs": [],
   "source": []
  }
 ],
 "metadata": {
  "kernelspec": {
   "display_name": "Julia 1.1.1",
   "language": "julia",
   "name": "julia-1.1"
  },
  "language_info": {
   "file_extension": ".jl",
   "mimetype": "application/julia",
   "name": "julia",
   "version": "1.1.1"
  }
 },
 "nbformat": 4,
 "nbformat_minor": 2
}
