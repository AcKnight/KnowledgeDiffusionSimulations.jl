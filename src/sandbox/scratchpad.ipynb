{
 "cells": [
  {
   "cell_type": "code",
   "execution_count": 2,
   "metadata": {},
   "outputs": [],
   "source": [
    "using DifferentialEquations, Plots\n",
    "using DifferentialEquations.EnsembleAnalysis  # Needed? just to make sure we have acces..."
   ]
  },
  {
   "cell_type": "code",
   "execution_count": 4,
   "metadata": {},
   "outputs": [],
   "source": [
    "using StatsBase, DataFrames"
   ]
  },
  {
   "cell_type": "code",
   "execution_count": 3,
   "metadata": {},
   "outputs": [
    {
     "data": {
      "text/plain": [
       "σ_SDE (generic function with 1 method)"
      ]
     },
     "execution_count": 3,
     "metadata": {},
     "output_type": "execute_result"
    }
   ],
   "source": [
    "# set up DE\n",
    "function μ_SDE(du,u,p,t)\n",
    "  du .= p.μ\n",
    "end\n",
    "\n",
    "function σ_SDE(du,u,p,t)\n",
    "  du .= p.σ\n",
    "end"
   ]
  },
  {
   "cell_type": "code",
   "execution_count": 83,
   "metadata": {},
   "outputs": [],
   "source": [
    "T = 10.;\n",
    "\n",
    "function save_func(u, t, integrator) \n",
    "    moments = [minimum(u), mean(u), maximum(u)]\n",
    "    push!(integrator.p.moments, moments) \n",
    "end # save everything for now \n",
    "\n",
    "p = (μ = 0.01, σ = 0.1, N = 3, moments = Array{Array{Float64, 1}, 1}[]);\n",
    "prob = SDEProblem(μ_SDE, σ_SDE, x_iv ,(0.0, T), p);\n",
    "saveat = 0:0.1:T\n",
    "\n",
    "cb = FunctionCallingCallback(save_func;\n",
    "                 funcat=saveat,\n",
    "                 func_everystep=true,\n",
    "                 func_start = true,\n",
    "                 tdir=1);"
   ]
  },
  {
   "cell_type": "code",
   "execution_count": 84,
   "metadata": {},
   "outputs": [
    {
     "data": {
      "text/plain": [
       "output_func (generic function with 1 method)"
      ]
     },
     "execution_count": 84,
     "metadata": {},
     "output_type": "execute_result"
    }
   ],
   "source": [
    "function output_func(sol, i)\n",
    "    return (u = sol.prob.p.moments, t = sol.t), false\n",
    "end"
   ]
  },
  {
   "cell_type": "code",
   "execution_count": 85,
   "metadata": {},
   "outputs": [
    {
     "data": {
      "text/plain": [
       "prob_func (generic function with 1 method)"
      ]
     },
     "execution_count": 85,
     "metadata": {},
     "output_type": "execute_result"
    }
   ],
   "source": [
    "function prob_func(prob,i,repeat)\n",
    "    p = (μ = 0.01, σ = 0.1, N = 3, moments = Array{Array{Float64, 1}, 1}[]);\n",
    "  SDEProblem(μ_SDE, σ_SDE, x_iv ,(0.0, T), p);\n",
    "end"
   ]
  },
  {
   "cell_type": "code",
   "execution_count": 86,
   "metadata": {},
   "outputs": [
    {
     "ename": "MethodError",
     "evalue": "MethodError: Cannot `convert` an object of type Float64 to an object of type Array{Float64,1}\nClosest candidates are:\n  convert(::Type{Array{Float64,1}}, !Matched::Sundials.NVector) at /Users/arnavsood/.julia/packages/Sundials/OdI66/src/nvector_wrapper.jl:56\n  convert(::Type{Array{Float64,1}}, !Matched::Ptr{Sundials._generic_N_Vector}) at /Users/arnavsood/.julia/packages/Sundials/OdI66/src/nvector_wrapper.jl:77\n  convert(::Type{Array{T,N}}, !Matched::FillArrays.Zeros{V,N,Axes} where Axes) where {T, V, N} at /Users/arnavsood/.julia/packages/FillArrays/MoGDs/src/FillArrays.jl:301\n  ...",
     "output_type": "error",
     "traceback": [
      "MethodError: Cannot `convert` an object of type Float64 to an object of type Array{Float64,1}\nClosest candidates are:\n  convert(::Type{Array{Float64,1}}, !Matched::Sundials.NVector) at /Users/arnavsood/.julia/packages/Sundials/OdI66/src/nvector_wrapper.jl:56\n  convert(::Type{Array{Float64,1}}, !Matched::Ptr{Sundials._generic_N_Vector}) at /Users/arnavsood/.julia/packages/Sundials/OdI66/src/nvector_wrapper.jl:77\n  convert(::Type{Array{T,N}}, !Matched::FillArrays.Zeros{V,N,Axes} where Axes) where {T, V, N} at /Users/arnavsood/.julia/packages/FillArrays/MoGDs/src/FillArrays.jl:301\n  ...",
      "",
      "Stacktrace:",
      " [1] setindex!(::Array{Array{Float64,1},1}, ::Float64, ::Int64) at ./array.jl:767",
      " [2] copyto! at ./abstractarray.jl:753 [inlined]",
      " [3] copyto! at ./abstractarray.jl:745 [inlined]",
      " [4] Type at ./array.jl:482 [inlined]",
      " [5] convert at ./array.jl:474 [inlined]",
      " [6] push!(::Array{Array{Array{Float64,1},1},1}, ::Array{Float64,1}) at ./array.jl:853",
      " [7] save_func(::Array{Float64,1}, ::Float64, ::StochasticDiffEq.SDEIntegrator{SOSRI,true,Array{Float64,1},Float64,Float64,NamedTuple{(:μ, :σ, :N, :moments),Tuple{Float64,Float64,Int64,Array{Array{Array{Float64,1},1},1}}},Float64,Float64,Float64,NoiseProcess{Float64,2,Float64,Array{Float64,1},Array{Float64,1},Array{Array{Float64,1},1},typeof(DiffEqNoiseProcess.INPLACE_WHITE_NOISE_DIST),typeof(DiffEqNoiseProcess.INPLACE_WHITE_NOISE_BRIDGE),true,DataStructures.Stack{Tuple{Float64,Array{Float64,1},Array{Float64,1}}},ResettableStacks.ResettableStack{Tuple{Float64,Array{Float64,1},Array{Float64,1}},true},RSWM{:RSwM3,Float64},RandomNumbers.Xorshifts.Xoroshiro128Plus},Array{Float64,1},RODESolution{Float64,2,Array{Array{Float64,1},1},Nothing,Nothing,Array{Float64,1},NoiseProcess{Float64,2,Float64,Array{Float64,1},Array{Float64,1},Array{Array{Float64,1},1},typeof(DiffEqNoiseProcess.INPLACE_WHITE_NOISE_DIST),typeof(DiffEqNoiseProcess.INPLACE_WHITE_NOISE_BRIDGE),true,DataStructures.Stack{Tuple{Float64,Array{Float64,1},Array{Float64,1}}},ResettableStacks.ResettableStack{Tuple{Float64,Array{Float64,1},Array{Float64,1}},true},RSWM{:RSwM3,Float64},RandomNumbers.Xorshifts.Xoroshiro128Plus},SDEProblem{Array{Float64,1},Tuple{Float64,Float64},true,NamedTuple{(:μ, :σ, :N, :moments),Tuple{Float64,Float64,Int64,Array{Array{Array{Float64,1},1},1}}},Nothing,SDEFunction{true,typeof(μ_SDE),typeof(σ_SDE),LinearAlgebra.UniformScaling{Bool},Nothing,Nothing,Nothing,Nothing,Nothing,Nothing,Nothing,Nothing,Nothing,Nothing},typeof(σ_SDE),Nothing,Nothing},SOSRI,StochasticDiffEq.LinearInterpolationData{Array{Array{Float64,1},1},Array{Float64,1}},DiffEqBase.DEStats},StochasticDiffEq.FourStageSRICache{Array{Float64,1},Array{Float64,1},StochasticDiffEq.FourStageSRIConstantCache{Float64,Float64},Array{Float64,1},Array{Float64,1},Array{Float64,1}},SDEFunction{true,typeof(μ_SDE),typeof(σ_SDE),LinearAlgebra.UniformScaling{Bool},Nothing,Nothing,Nothing,Nothing,Nothing,Nothing,Nothing,Nothing,Nothing,Nothing},typeof(σ_SDE),StochasticDiffEq.SDEOptions{Float64,Float64,typeof(DiffEqBase.ODE_DEFAULT_NORM),CallbackSet{Tuple{},Tuple{DiscreteCallback{getfield(DiffEqCallbacks, Symbol(\"##25#26\")),DiffEqCallbacks.FunctionCallingAffect{typeof(save_func),DataStructures.BinaryHeap{Float64,DataStructures.LessThan},Array{Float64,1}},typeof(DiffEqCallbacks.functioncalling_initialize)}}},typeof(DiffEqBase.ODE_DEFAULT_ISOUTOFDOMAIN),typeof(DiffEqBase.ODE_DEFAULT_PROG_MESSAGE),typeof(DiffEqBase.ODE_DEFAULT_UNSTABLE_CHECK),DataStructures.BinaryHeap{Float64,DataStructures.LessThan},Nothing,Nothing,Int64,Float64,Float64,Float64,Array{Float64,1},Array{Float64,1},Array{Float64,1}},Nothing,Float64,Nothing}) at ./In[83]:5",
      " [8] (::DiffEqCallbacks.FunctionCallingAffect{typeof(save_func),DataStructures.BinaryHeap{Float64,DataStructures.LessThan},Array{Float64,1}})(::StochasticDiffEq.SDEIntegrator{SOSRI,true,Array{Float64,1},Float64,Float64,NamedTuple{(:μ, :σ, :N, :moments),Tuple{Float64,Float64,Int64,Array{Array{Array{Float64,1},1},1}}},Float64,Float64,Float64,NoiseProcess{Float64,2,Float64,Array{Float64,1},Array{Float64,1},Array{Array{Float64,1},1},typeof(DiffEqNoiseProcess.INPLACE_WHITE_NOISE_DIST),typeof(DiffEqNoiseProcess.INPLACE_WHITE_NOISE_BRIDGE),true,DataStructures.Stack{Tuple{Float64,Array{Float64,1},Array{Float64,1}}},ResettableStacks.ResettableStack{Tuple{Float64,Array{Float64,1},Array{Float64,1}},true},RSWM{:RSwM3,Float64},RandomNumbers.Xorshifts.Xoroshiro128Plus},Array{Float64,1},RODESolution{Float64,2,Array{Array{Float64,1},1},Nothing,Nothing,Array{Float64,1},NoiseProcess{Float64,2,Float64,Array{Float64,1},Array{Float64,1},Array{Array{Float64,1},1},typeof(DiffEqNoiseProcess.INPLACE_WHITE_NOISE_DIST),typeof(DiffEqNoiseProcess.INPLACE_WHITE_NOISE_BRIDGE),true,DataStructures.Stack{Tuple{Float64,Array{Float64,1},Array{Float64,1}}},ResettableStacks.ResettableStack{Tuple{Float64,Array{Float64,1},Array{Float64,1}},true},RSWM{:RSwM3,Float64},RandomNumbers.Xorshifts.Xoroshiro128Plus},SDEProblem{Array{Float64,1},Tuple{Float64,Float64},true,NamedTuple{(:μ, :σ, :N, :moments),Tuple{Float64,Float64,Int64,Array{Array{Array{Float64,1},1},1}}},Nothing,SDEFunction{true,typeof(μ_SDE),typeof(σ_SDE),LinearAlgebra.UniformScaling{Bool},Nothing,Nothing,Nothing,Nothing,Nothing,Nothing,Nothing,Nothing,Nothing,Nothing},typeof(σ_SDE),Nothing,Nothing},SOSRI,StochasticDiffEq.LinearInterpolationData{Array{Array{Float64,1},1},Array{Float64,1}},DiffEqBase.DEStats},StochasticDiffEq.FourStageSRICache{Array{Float64,1},Array{Float64,1},StochasticDiffEq.FourStageSRIConstantCache{Float64,Float64},Array{Float64,1},Array{Float64,1},Array{Float64,1}},SDEFunction{true,typeof(μ_SDE),typeof(σ_SDE),LinearAlgebra.UniformScaling{Bool},Nothing,Nothing,Nothing,Nothing,Nothing,Nothing,Nothing,Nothing,Nothing,Nothing},typeof(σ_SDE),StochasticDiffEq.SDEOptions{Float64,Float64,typeof(DiffEqBase.ODE_DEFAULT_NORM),CallbackSet{Tuple{},Tuple{DiscreteCallback{getfield(DiffEqCallbacks, Symbol(\"##25#26\")),DiffEqCallbacks.FunctionCallingAffect{typeof(save_func),DataStructures.BinaryHeap{Float64,DataStructures.LessThan},Array{Float64,1}},typeof(DiffEqCallbacks.functioncalling_initialize)}}},typeof(DiffEqBase.ODE_DEFAULT_ISOUTOFDOMAIN),typeof(DiffEqBase.ODE_DEFAULT_PROG_MESSAGE),typeof(DiffEqBase.ODE_DEFAULT_UNSTABLE_CHECK),DataStructures.BinaryHeap{Float64,DataStructures.LessThan},Nothing,Nothing,Int64,Float64,Float64,Float64,Array{Float64,1},Array{Float64,1},Array{Float64,1}},Nothing,Float64,Nothing}, ::Bool) at /Users/arnavsood/.julia/packages/DiffEqCallbacks/F9tTJ/src/function_caller.jl:28",
      " [9] FunctionCallingAffect at /Users/arnavsood/.julia/packages/DiffEqCallbacks/F9tTJ/src/function_caller.jl:12 [inlined]",
      " [10] functioncalling_initialize at /Users/arnavsood/.julia/packages/DiffEqCallbacks/F9tTJ/src/function_caller.jl:47 [inlined]",
      " [11] initialize! at /Users/arnavsood/.julia/packages/DiffEqBase/LCorD/src/callbacks.jl:153 [inlined]",
      " [12] initialize! at /Users/arnavsood/.julia/packages/DiffEqBase/LCorD/src/callbacks.jl:143 [inlined]",
      " [13] initialize_callbacks!(::StochasticDiffEq.SDEIntegrator{SOSRI,true,Array{Float64,1},Float64,Float64,NamedTuple{(:μ, :σ, :N, :moments),Tuple{Float64,Float64,Int64,Array{Array{Array{Float64,1},1},1}}},Float64,Float64,Float64,NoiseProcess{Float64,2,Float64,Array{Float64,1},Array{Float64,1},Array{Array{Float64,1},1},typeof(DiffEqNoiseProcess.INPLACE_WHITE_NOISE_DIST),typeof(DiffEqNoiseProcess.INPLACE_WHITE_NOISE_BRIDGE),true,DataStructures.Stack{Tuple{Float64,Array{Float64,1},Array{Float64,1}}},ResettableStacks.ResettableStack{Tuple{Float64,Array{Float64,1},Array{Float64,1}},true},RSWM{:RSwM3,Float64},RandomNumbers.Xorshifts.Xoroshiro128Plus},Array{Float64,1},RODESolution{Float64,2,Array{Array{Float64,1},1},Nothing,Nothing,Array{Float64,1},NoiseProcess{Float64,2,Float64,Array{Float64,1},Array{Float64,1},Array{Array{Float64,1},1},typeof(DiffEqNoiseProcess.INPLACE_WHITE_NOISE_DIST),typeof(DiffEqNoiseProcess.INPLACE_WHITE_NOISE_BRIDGE),true,DataStructures.Stack{Tuple{Float64,Array{Float64,1},Array{Float64,1}}},ResettableStacks.ResettableStack{Tuple{Float64,Array{Float64,1},Array{Float64,1}},true},RSWM{:RSwM3,Float64},RandomNumbers.Xorshifts.Xoroshiro128Plus},SDEProblem{Array{Float64,1},Tuple{Float64,Float64},true,NamedTuple{(:μ, :σ, :N, :moments),Tuple{Float64,Float64,Int64,Array{Array{Array{Float64,1},1},1}}},Nothing,SDEFunction{true,typeof(μ_SDE),typeof(σ_SDE),LinearAlgebra.UniformScaling{Bool},Nothing,Nothing,Nothing,Nothing,Nothing,Nothing,Nothing,Nothing,Nothing,Nothing},typeof(σ_SDE),Nothing,Nothing},SOSRI,StochasticDiffEq.LinearInterpolationData{Array{Array{Float64,1},1},Array{Float64,1}},DiffEqBase.DEStats},StochasticDiffEq.FourStageSRICache{Array{Float64,1},Array{Float64,1},StochasticDiffEq.FourStageSRIConstantCache{Float64,Float64},Array{Float64,1},Array{Float64,1},Array{Float64,1}},SDEFunction{true,typeof(μ_SDE),typeof(σ_SDE),LinearAlgebra.UniformScaling{Bool},Nothing,Nothing,Nothing,Nothing,Nothing,Nothing,Nothing,Nothing,Nothing,Nothing},typeof(σ_SDE),StochasticDiffEq.SDEOptions{Float64,Float64,typeof(DiffEqBase.ODE_DEFAULT_NORM),CallbackSet{Tuple{},Tuple{DiscreteCallback{getfield(DiffEqCallbacks, Symbol(\"##25#26\")),DiffEqCallbacks.FunctionCallingAffect{typeof(save_func),DataStructures.BinaryHeap{Float64,DataStructures.LessThan},Array{Float64,1}},typeof(DiffEqCallbacks.functioncalling_initialize)}}},typeof(DiffEqBase.ODE_DEFAULT_ISOUTOFDOMAIN),typeof(DiffEqBase.ODE_DEFAULT_PROG_MESSAGE),typeof(DiffEqBase.ODE_DEFAULT_UNSTABLE_CHECK),DataStructures.BinaryHeap{Float64,DataStructures.LessThan},Nothing,Nothing,Int64,Float64,Float64,Float64,Array{Float64,1},Array{Float64,1},Array{Float64,1}},Nothing,Float64,Nothing}, ::Bool) at /Users/arnavsood/.julia/packages/StochasticDiffEq/3EqDI/src/solve.jl:501",
      " [14] #__init#40(::Array{Float64,1}, ::Array{Float64,1}, ::Array{Float64,1}, ::Nothing, ::Bool, ::Bool, ::Bool, ::Bool, ::Bool, ::DiscreteCallback{getfield(DiffEqCallbacks, Symbol(\"##25#26\")),DiffEqCallbacks.FunctionCallingAffect{typeof(save_func),DataStructures.BinaryHeap{Float64,DataStructures.LessThan},Array{Float64,1}},typeof(DiffEqCallbacks.functioncalling_initialize)}, ::Bool, ::Bool, ::Float64, ::Bool, ::Rational{Int64}, ::Nothing, ::Nothing, ::Rational{Int64}, ::Rational{Int64}, ::Rational{Int64}, ::Bool, ::Int64, ::Rational{Int64}, ::Rational{Int64}, ::Rational{Int64}, ::Int64, ::Float64, ::Float64, ::typeof(DiffEqBase.ODE_DEFAULT_NORM), ::typeof(DiffEqBase.ODE_DEFAULT_ISOUTOFDOMAIN), ::typeof(DiffEqBase.ODE_DEFAULT_UNSTABLE_CHECK), ::Bool, ::Bool, ::Bool, ::Bool, ::Bool, ::Bool, ::Bool, ::Bool, ::Int64, ::String, ::typeof(DiffEqBase.ODE_DEFAULT_PROG_MESSAGE), ::Nothing, ::Bool, ::UInt64, ::Bool, ::Base.Iterators.Pairs{Symbol,Bool,Tuple{Symbol},NamedTuple{(:default_set,),Tuple{Bool}}}, ::typeof(DiffEqBase.__init), ::SDEProblem{Array{Float64,1},Tuple{Float64,Float64},true,NamedTuple{(:μ, :σ, :N, :moments),Tuple{Float64,Float64,Int64,Array{Array{Array{Float64,1},1},1}}},Nothing,SDEFunction{true,typeof(μ_SDE),typeof(σ_SDE),LinearAlgebra.UniformScaling{Bool},Nothing,Nothing,Nothing,Nothing,Nothing,Nothing,Nothing,Nothing,Nothing,Nothing},typeof(σ_SDE),Nothing,Nothing}, ::SOSRI, ::Array{Any,1}, ::Array{Any,1}, ::Type, ::Type{Val{true}}) at /Users/arnavsood/.julia/packages/StochasticDiffEq/3EqDI/src/solve.jl:375",
      " [15] (::getfield(DiffEqBase, Symbol(\"#kw##__init\")))(::NamedTuple{(:default_set, :callback),Tuple{Bool,DiscreteCallback{getfield(DiffEqCallbacks, Symbol(\"##25#26\")),DiffEqCallbacks.FunctionCallingAffect{typeof(save_func),DataStructures.BinaryHeap{Float64,DataStructures.LessThan},Array{Float64,1}},typeof(DiffEqCallbacks.functioncalling_initialize)}}}, ::typeof(DiffEqBase.__init), ::SDEProblem{Array{Float64,1},Tuple{Float64,Float64},true,NamedTuple{(:μ, :σ, :N, :moments),Tuple{Float64,Float64,Int64,Array{Array{Array{Float64,1},1},1}}},Nothing,SDEFunction{true,typeof(μ_SDE),typeof(σ_SDE),LinearAlgebra.UniformScaling{Bool},Nothing,Nothing,Nothing,Nothing,Nothing,Nothing,Nothing,Nothing,Nothing,Nothing},typeof(σ_SDE),Nothing,Nothing}, ::SOSRI, ::Array{Any,1}, ::Array{Any,1}, ::Type, ::Type{Val{true}}) at ./none:0",
      " [16] #__solve at ./none:0 [inlined] (repeats 2 times)",
      " [17] #__solve#2(::Bool, ::Base.Iterators.Pairs{Symbol,DiscreteCallback{getfield(DiffEqCallbacks, Symbol(\"##25#26\")),DiffEqCallbacks.FunctionCallingAffect{typeof(save_func),DataStructures.BinaryHeap{Float64,DataStructures.LessThan},Array{Float64,1}},typeof(DiffEqCallbacks.functioncalling_initialize)},Tuple{Symbol},NamedTuple{(:callback,),Tuple{DiscreteCallback{getfield(DiffEqCallbacks, Symbol(\"##25#26\")),DiffEqCallbacks.FunctionCallingAffect{typeof(save_func),DataStructures.BinaryHeap{Float64,DataStructures.LessThan},Array{Float64,1}},typeof(DiffEqCallbacks.functioncalling_initialize)}}}}, ::Function, ::SDEProblem{Array{Float64,1},Tuple{Float64,Float64},true,NamedTuple{(:μ, :σ, :N, :moments),Tuple{Float64,Float64,Int64,Array{Array{Array{Float64,1},1},1}}},Nothing,SDEFunction{true,typeof(μ_SDE),typeof(σ_SDE),LinearAlgebra.UniformScaling{Bool},Nothing,Nothing,Nothing,Nothing,Nothing,Nothing,Nothing,Nothing,Nothing,Nothing},typeof(σ_SDE),Nothing,Nothing}, ::Tsit5) at /Users/arnavsood/.julia/packages/DifferentialEquations/4jSpr/src/default_solve.jl:15",
      " [18] #__solve at ./none:0 [inlined]",
      " [19] #solve#386 at /Users/arnavsood/.julia/packages/DiffEqBase/LCorD/src/solve.jl:39 [inlined]",
      " [20] (::getfield(DiffEqBase, Symbol(\"#kw##solve\")))(::NamedTuple{(:callback,),Tuple{DiscreteCallback{getfield(DiffEqCallbacks, Symbol(\"##25#26\")),DiffEqCallbacks.FunctionCallingAffect{typeof(save_func),DataStructures.BinaryHeap{Float64,DataStructures.LessThan},Array{Float64,1}},typeof(DiffEqCallbacks.functioncalling_initialize)}}}, ::typeof(solve), ::SDEProblem{Array{Float64,1},Tuple{Float64,Float64},true,NamedTuple{(:μ, :σ, :N, :moments),Tuple{Float64,Float64,Int64,Array{Array{Array{Float64,1},1},1}}},Nothing,SDEFunction{true,typeof(μ_SDE),typeof(σ_SDE),LinearAlgebra.UniformScaling{Bool},Nothing,Nothing,Nothing,Nothing,Nothing,Nothing,Nothing,Nothing,Nothing,Nothing},typeof(σ_SDE),Nothing,Nothing}, ::Tsit5) at ./none:0",
      " [21] batch_func(::Int64, ::EnsembleProblem{SDEProblem{Array{Float64,1},Tuple{Float64,Float64},true,NamedTuple{(:μ, :σ, :N, :moments),Tuple{Float64,Float64,Int64,Array{Array{Array{Float64,1},1},1}}},Nothing,SDEFunction{true,typeof(μ_SDE),typeof(σ_SDE),LinearAlgebra.UniformScaling{Bool},Nothing,Nothing,Nothing,Nothing,Nothing,Nothing,Nothing,Nothing,Nothing,Nothing},typeof(σ_SDE),Nothing,Nothing},typeof(prob_func),typeof(output_func),getfield(DiffEqBase, Symbol(\"##296#302\")),Array{Any,1}}, ::Tsit5, ::UnitRange{Int64}, ::Pair{Symbol,DiscreteCallback{getfield(DiffEqCallbacks, Symbol(\"##25#26\")),DiffEqCallbacks.FunctionCallingAffect{typeof(save_func),DataStructures.BinaryHeap{Float64,DataStructures.LessThan},Array{Float64,1}},typeof(DiffEqCallbacks.functioncalling_initialize)}}) at /Users/arnavsood/.julia/packages/DiffEqBase/LCorD/src/ensemble/basic_ensemble_solve.jl:88",
      " [22] iterate at /Users/arnavsood/.julia/packages/DiffEqBase/LCorD/src/ensemble/basic_ensemble_solve.jl:124 [inlined]",
      " [23] _collect(::UnitRange{Int64}, ::Base.Generator{UnitRange{Int64},getfield(DiffEqBase, Symbol(\"##320#321\")){EnsembleProblem{SDEProblem{Array{Float64,1},Tuple{Float64,Float64},true,NamedTuple{(:μ, :σ, :N, :moments),Tuple{Float64,Float64,Int64,Array{Array{Array{Float64,1},1},1}}},Nothing,SDEFunction{true,typeof(μ_SDE),typeof(σ_SDE),LinearAlgebra.UniformScaling{Bool},Nothing,Nothing,Nothing,Nothing,Nothing,Nothing,Nothing,Nothing,Nothing,Nothing},typeof(σ_SDE),Nothing,Nothing},typeof(prob_func),typeof(output_func),getfield(DiffEqBase, Symbol(\"##296#302\")),Array{Any,1}},Tsit5,UnitRange{Int64},Tuple{Pair{Symbol,DiscreteCallback{getfield(DiffEqCallbacks, Symbol(\"##25#26\")),DiffEqCallbacks.FunctionCallingAffect{typeof(save_func),DataStructures.BinaryHeap{Float64,DataStructures.LessThan},Array{Float64,1}},typeof(DiffEqCallbacks.functioncalling_initialize)}}}}}, ::Base.EltypeUnknown, ::Base.HasShape{1}) at ./array.jl:619",
      " [24] collect_similar at ./array.jl:548 [inlined]",
      " [25] map at ./abstractarray.jl:2018 [inlined]",
      " [26] solve_batch(::EnsembleProblem{SDEProblem{Array{Float64,1},Tuple{Float64,Float64},true,NamedTuple{(:μ, :σ, :N, :moments),Tuple{Float64,Float64,Int64,Array{Array{Array{Float64,1},1},1}}},Nothing,SDEFunction{true,typeof(μ_SDE),typeof(σ_SDE),LinearAlgebra.UniformScaling{Bool},Nothing,Nothing,Nothing,Nothing,Nothing,Nothing,Nothing,Nothing,Nothing,Nothing},typeof(σ_SDE),Nothing,Nothing},typeof(prob_func),typeof(output_func),getfield(DiffEqBase, Symbol(\"##296#302\")),Array{Any,1}}, ::Tsit5, ::EnsembleSerial, ::UnitRange{Int64}, ::Int64, ::Pair{Symbol,DiscreteCallback{getfield(DiffEqCallbacks, Symbol(\"##25#26\")),DiffEqCallbacks.FunctionCallingAffect{typeof(save_func),DataStructures.BinaryHeap{Float64,DataStructures.LessThan},Array{Float64,1}},typeof(DiffEqCallbacks.functioncalling_initialize)}}) at /Users/arnavsood/.julia/packages/DiffEqBase/LCorD/src/ensemble/basic_ensemble_solve.jl:123",
      " [27] macro expansion at /Users/arnavsood/.julia/packages/DiffEqBase/LCorD/src/ensemble/basic_ensemble_solve.jl:72 [inlined]",
      " [28] macro expansion at ./util.jl:213 [inlined]",
      " [29] #__solve#317(::Int64, ::Int64, ::Int64, ::Base.Iterators.Pairs{Symbol,DiscreteCallback{getfield(DiffEqCallbacks, Symbol(\"##25#26\")),DiffEqCallbacks.FunctionCallingAffect{typeof(save_func),DataStructures.BinaryHeap{Float64,DataStructures.LessThan},Array{Float64,1}},typeof(DiffEqCallbacks.functioncalling_initialize)},Tuple{Symbol},NamedTuple{(:callback,),Tuple{DiscreteCallback{getfield(DiffEqCallbacks, Symbol(\"##25#26\")),DiffEqCallbacks.FunctionCallingAffect{typeof(save_func),DataStructures.BinaryHeap{Float64,DataStructures.LessThan},Array{Float64,1}},typeof(DiffEqCallbacks.functioncalling_initialize)}}}}, ::Function, ::EnsembleProblem{SDEProblem{Array{Float64,1},Tuple{Float64,Float64},true,NamedTuple{(:μ, :σ, :N, :moments),Tuple{Float64,Float64,Int64,Array{Array{Array{Float64,1},1},1}}},Nothing,SDEFunction{true,typeof(μ_SDE),typeof(σ_SDE),LinearAlgebra.UniformScaling{Bool},Nothing,Nothing,Nothing,Nothing,Nothing,Nothing,Nothing,Nothing,Nothing,Nothing},typeof(σ_SDE),Nothing,Nothing},typeof(prob_func),typeof(output_func),getfield(DiffEqBase, Symbol(\"##296#302\")),Array{Any,1}}, ::Tsit5, ::EnsembleSerial) at /Users/arnavsood/.julia/packages/DiffEqBase/LCorD/src/ensemble/basic_ensemble_solve.jl:66",
      " [30] (::getfield(DiffEqBase, Symbol(\"#kw##__solve\")))(::NamedTuple{(:trajectories, :callback),Tuple{Int64,DiscreteCallback{getfield(DiffEqCallbacks, Symbol(\"##25#26\")),DiffEqCallbacks.FunctionCallingAffect{typeof(save_func),DataStructures.BinaryHeap{Float64,DataStructures.LessThan},Array{Float64,1}},typeof(DiffEqCallbacks.functioncalling_initialize)}}}, ::typeof(DiffEqBase.__solve), ::EnsembleProblem{SDEProblem{Array{Float64,1},Tuple{Float64,Float64},true,NamedTuple{(:μ, :σ, :N, :moments),Tuple{Float64,Float64,Int64,Array{Array{Array{Float64,1},1},1}}},Nothing,SDEFunction{true,typeof(μ_SDE),typeof(σ_SDE),LinearAlgebra.UniformScaling{Bool},Nothing,Nothing,Nothing,Nothing,Nothing,Nothing,Nothing,Nothing,Nothing,Nothing},typeof(σ_SDE),Nothing,Nothing},typeof(prob_func),typeof(output_func),getfield(DiffEqBase, Symbol(\"##296#302\")),Array{Any,1}}, ::Tsit5, ::EnsembleSerial) at ./none:0",
      " [31] #solve#387 at /Users/arnavsood/.julia/packages/DiffEqBase/LCorD/src/solve.jl:46 [inlined]",
      " [32] (::getfield(DiffEqBase, Symbol(\"#kw##solve\")))(::NamedTuple{(:trajectories, :callback),Tuple{Int64,DiscreteCallback{getfield(DiffEqCallbacks, Symbol(\"##25#26\")),DiffEqCallbacks.FunctionCallingAffect{typeof(save_func),DataStructures.BinaryHeap{Float64,DataStructures.LessThan},Array{Float64,1}},typeof(DiffEqCallbacks.functioncalling_initialize)}}}, ::typeof(solve), ::EnsembleProblem{SDEProblem{Array{Float64,1},Tuple{Float64,Float64},true,NamedTuple{(:μ, :σ, :N, :moments),Tuple{Float64,Float64,Int64,Array{Array{Array{Float64,1},1},1}}},Nothing,SDEFunction{true,typeof(μ_SDE),typeof(σ_SDE),LinearAlgebra.UniformScaling{Bool},Nothing,Nothing,Nothing,Nothing,Nothing,Nothing,Nothing,Nothing,Nothing,Nothing},typeof(σ_SDE),Nothing,Nothing},typeof(prob_func),typeof(output_func),getfield(DiffEqBase, Symbol(\"##296#302\")),Array{Any,1}}, ::Tsit5, ::EnsembleSerial) at ./none:0",
      " [33] top-level scope at In[86]:2"
     ]
    }
   ],
   "source": [
    "ensemble_prob = EnsembleProblem(prob, prob_func = prob_func, output_func = output_func)\n",
    "sim = solve(ensemble_prob,Tsit5(), EnsembleSerial(), trajectories = 2, callback = cb)"
   ]
  },
  {
   "cell_type": "code",
   "execution_count": 87,
   "metadata": {},
   "outputs": [
    {
     "data": {
      "text/plain": [
       "(u = Any[[0.0474938, 0.306015, 0.590772], [0.0474938, 0.306015, 0.590772], [0.0484601, 0.305747, 0.586085], [0.0538505, 0.307969, 0.585297], [0.0526503, 0.306802, 0.584087], [0.0588576, 0.309676, 0.580334], [0.0561227, 0.309885, 0.589188], [0.0511345, 0.306592, 0.589823], [0.0551127, 0.314391, 0.59902], [0.056093, 0.318733, 0.609295]  …  [-0.658448, 0.181607, 0.657987], [-0.656041, 0.182428, 0.657615], [-0.647262, 0.185421, 0.656258], [-0.638483, 0.188413, 0.654902], [-0.637754, 0.188662, 0.65479], [-0.671431, 0.180952, 0.653748], [-0.708159, 0.172543, 0.652612], [-0.724256, 0.168858, 0.652114], [-0.719923, 0.157205, 0.616711], [-0.719923, 0.157205, 0.616711]], t = [0.0, 0.00145079, 0.00282616, 0.00437344, 0.00611413, 0.00807241, 0.0102755, 0.0127539, 0.0155422, 0.018679  …  8.08723, 8.31124, 8.54033, 8.77178, 9.00487, 9.23802, 9.47258, 9.70831, 9.94383, 10.0])"
      ]
     },
     "execution_count": 87,
     "metadata": {},
     "output_type": "execute_result"
    }
   ],
   "source": [
    "sim.u[1]"
   ]
  },
  {
   "cell_type": "code",
   "execution_count": 88,
   "metadata": {},
   "outputs": [
    {
     "ename": "MethodError",
     "evalue": "MethodError: no method matching zero(::Type{Any})\nClosest candidates are:\n  zero(::Type{Union{Missing, T}}) where T at missing.jl:87\n  zero(!Matched::Type{LibGit2.GitHash}) at /Users/julia/buildbot/worker/package_macos64/build/usr/share/julia/stdlib/v1.1/LibGit2/src/oid.jl:220\n  zero(!Matched::Type{Pkg.Resolve.VersionWeights.VersionWeight}) at /Users/julia/buildbot/worker/package_macos64/build/usr/share/julia/stdlib/v1.1/Pkg/src/resolve/VersionWeights.jl:19\n  ...",
     "output_type": "error",
     "traceback": [
      "MethodError: no method matching zero(::Type{Any})\nClosest candidates are:\n  zero(::Type{Union{Missing, T}}) where T at missing.jl:87\n  zero(!Matched::Type{LibGit2.GitHash}) at /Users/julia/buildbot/worker/package_macos64/build/usr/share/julia/stdlib/v1.1/LibGit2/src/oid.jl:220\n  zero(!Matched::Type{Pkg.Resolve.VersionWeights.VersionWeight}) at /Users/julia/buildbot/worker/package_macos64/build/usr/share/julia/stdlib/v1.1/Pkg/src/resolve/VersionWeights.jl:19\n  ...",
      "",
      "Stacktrace:",
      " [1] zero(::Type{Any}) at ./missing.jl:87",
      " [2] zero(::Array{Any,1}) at ./abstractarray.jl:849",
      " [3] #componentwise_meanvar#46(::Bool, ::Function, ::Base.Generator{EnsembleSolution{Array{T,1} where T,1,Array{NamedTuple{(:u, :t),Tuple{Array{Any,1},Array{Float64,1}}},1}},getfield(DiffEqBase.EnsembleAnalysis, Symbol(\"##1#2\")){Int64}}) at /Users/arnavsood/.julia/packages/DiffEqBase/LCorD/src/ensemble/ensemble_analysis.jl:176",
      " [4] componentwise_meanvar at /Users/arnavsood/.julia/packages/DiffEqBase/LCorD/src/ensemble/ensemble_analysis.jl:174 [inlined]",
      " [5] timestep_meanvar at /Users/arnavsood/.julia/packages/DiffEqBase/LCorD/src/ensemble/ensemble_analysis.jl:46 [inlined]",
      " [6] timeseries_steps_meanvar at /Users/arnavsood/.julia/packages/DiffEqBase/LCorD/src/ensemble/ensemble_analysis.jl:68 [inlined]",
      " [7] #EnsembleSummary#27(::Array{Float64,1}, ::Type, ::EnsembleSolution{Array{T,1} where T,1,Array{NamedTuple{(:u, :t),Tuple{Array{Any,1},Array{Float64,1}}},1}}, ::Array{Float64,1}) at /Users/arnavsood/.julia/packages/DiffEqBase/LCorD/src/ensemble/ensemble_analysis.jl:113",
      " [8] EnsembleSummary(::EnsembleSolution{Array{T,1} where T,1,Array{NamedTuple{(:u, :t),Tuple{Array{Any,1},Array{Float64,1}}},1}}, ::Array{Float64,1}) at /Users/arnavsood/.julia/packages/DiffEqBase/LCorD/src/ensemble/ensemble_analysis.jl:108 (repeats 2 times)",
      " [9] top-level scope at In[88]:1"
     ]
    }
   ],
   "source": [
    "summ = EnsembleSummary(sim)"
   ]
  },
  {
   "cell_type": "code",
   "execution_count": null,
   "metadata": {},
   "outputs": [],
   "source": []
  }
 ],
 "metadata": {
  "kernelspec": {
   "display_name": "Julia 1.1.1",
   "language": "julia",
   "name": "julia-1.1"
  },
  "language_info": {
   "file_extension": ".jl",
   "mimetype": "application/julia",
   "name": "julia",
   "version": "1.1.1"
  }
 },
 "nbformat": 4,
 "nbformat_minor": 2
}
